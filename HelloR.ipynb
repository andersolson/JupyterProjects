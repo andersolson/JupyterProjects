{
 "cells": [
  {
   "cell_type": "markdown",
   "metadata": {},
   "source": [
    "## Hey!\n",
    "This is my first R script on Jupyter. Let's kill it!"
   ]
  },
  {
   "cell_type": "code",
   "execution_count": 1,
   "metadata": {},
   "outputs": [
    {
     "data": {
      "text/html": [
       "FALSE"
      ],
      "text/latex": [
       "FALSE"
      ],
      "text/markdown": [
       "FALSE"
      ],
      "text/plain": [
       "[1] FALSE"
      ]
     },
     "metadata": {},
     "output_type": "display_data"
    }
   ],
   "source": [
    "x <- 5\n",
    "y <- 80\n",
    "result <- x > y\n",
    "result"
   ]
  },
  {
   "cell_type": "markdown",
   "metadata": {},
   "source": [
    "***\n",
    "\n",
    "__*COOOOOL* __\n",
    "\n",
    "That actually worked! it executed all the lines at once. Let's try another one!\n",
    "***"
   ]
  },
  {
   "cell_type": "code",
   "execution_count": 5,
   "metadata": {},
   "outputs": [
    {
     "data": {
      "text/html": [
       "0.8"
      ],
      "text/latex": [
       "0.8"
      ],
      "text/markdown": [
       "0.8"
      ],
      "text/plain": [
       "[1] 0.8"
      ]
     },
     "metadata": {},
     "output_type": "display_data"
    }
   ],
   "source": [
    "N <- 10                    #Specify the sample size\n",
    "counter <- 0               #Reset the counter\n",
    "for(i in rnorm(N)){        #Iterate over vector of numbers\n",
    "  if(i > -1 & i < 1){      #Check where iterated variable falls\n",
    "    counter <- counter + 1 #Increase counter if condition is met\n",
    "  }\n",
    "} \n",
    "\n",
    "answer <- counter / N\n",
    "answer"
   ]
  },
  {
   "cell_type": "code",
   "execution_count": 6,
   "metadata": {},
   "outputs": [
    {
     "data": {
      "text/html": [
       "0.6856"
      ],
      "text/latex": [
       "0.6856"
      ],
      "text/markdown": [
       "0.6856"
      ],
      "text/plain": [
       "[1] 0.6856"
      ]
     },
     "metadata": {},
     "output_type": "display_data"
    }
   ],
   "source": [
    "N <- 10000                 #Specify the sample size\n",
    "counter <- 0               #Reset the counter\n",
    "for(i in rnorm(N)){        #Iterate over vector of numbers\n",
    "  if(i > -1 & i < 1){      #Check where iterated variable falls\n",
    "    counter <- counter + 1 #Increase counter if condition is met\n",
    "  }\n",
    "} \n",
    "\n",
    "answer <- counter / N\n",
    "answer"
   ]
  },
  {
   "cell_type": "code",
   "execution_count": 7,
   "metadata": {},
   "outputs": [
    {
     "data": {
      "text/html": [
       "0.682674"
      ],
      "text/latex": [
       "0.682674"
      ],
      "text/markdown": [
       "0.682674"
      ],
      "text/plain": [
       "[1] 0.682674"
      ]
     },
     "metadata": {},
     "output_type": "display_data"
    }
   ],
   "source": [
    "N <- 1000000               #Specify the sample size\n",
    "counter <- 0               #Reset the counter\n",
    "for(i in rnorm(N)){        #Iterate over vector of numbers\n",
    "  if(i > -1 & i < 1){      #Check where iterated variable falls\n",
    "    counter <- counter + 1 #Increase counter if condition is met\n",
    "  }\n",
    "} \n",
    "\n",
    "answer <- counter / N\n",
    "answer"
   ]
  },
  {
   "cell_type": "markdown",
   "metadata": {},
   "source": [
    "__*Fuck*__ this shit is so cool!"
   ]
  },
  {
   "cell_type": "code",
   "execution_count": null,
   "metadata": {},
   "outputs": [],
   "source": []
  }
 ],
 "metadata": {
  "kernelspec": {
   "display_name": "R",
   "language": "R",
   "name": "ir"
  },
  "language_info": {
   "codemirror_mode": "r",
   "file_extension": ".r",
   "mimetype": "text/x-r-source",
   "name": "R",
   "pygments_lexer": "r",
   "version": "3.4.2"
  }
 },
 "nbformat": 4,
 "nbformat_minor": 2
}
